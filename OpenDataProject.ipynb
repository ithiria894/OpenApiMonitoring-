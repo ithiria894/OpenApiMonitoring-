{
 "cells": [
  {
   "cell_type": "code",
   "execution_count": null,
   "id": "88488dc3",
   "metadata": {},
   "outputs": [],
   "source": [
    "import requests\n",
    "from datetime import datetime\n",
    "import pytz\n",
    "\n",
    "print(tdelta.seconds/60)\n",
    "# print(type(tdelta)) \n",
    "\n",
    "\n",
    "def sendEmail(tdelta):\n",
    "    if(tdelta>3):\n",
    "        return 1\n",
    "    else:\n",
    "        return 0\n",
    "\n",
    "\n",
    "\n",
    "\n",
    "def main():\n",
    "    headers = {'UAuthorization': '5d0c4f23de394e0001045b5d390898efeea7423fb4090bb765d0d1ed'}\n",
    "    url=\"https://uapi.ust.hk/sensor-data/_search?sort=@timestamp:desc&size=1\"\n",
    "    response = requests.get(url,headers=headers)\n",
    "\n",
    "    jsontext=response.json()\n",
    "\n",
    "\n",
    "    dt=response.json()['hits']['hits'][0]['_source']['@timestamp']\n",
    "\n",
    "\n",
    "    date_time_obj = datetime.strptime(dt, '%Y-%m-%dT%H:%M:%S.%fZ')\n",
    "\n",
    "\n",
    "\n",
    "    dt1 = date_time_obj.replace(tzinfo=pytz.utc)\n",
    "    # print(dt1)\n",
    "\n",
    "    dt2 = datetime.now(tz=pytz.UTC)\n",
    "    # print(dt2)\n",
    "    tdelta = dt2 - dt1 \n",
    "    sendEmail(tdelta.seconds/60)\n",
    "\n",
    "if __name__ == \"__main__\":\n",
    "    main()\n",
    "\n",
    "\n",
    "\n",
    "\n",
    "\n",
    "\n",
    "\n",
    "\n"
   ]
  }
 ],
 "metadata": {
  "kernelspec": {
   "display_name": "Python 3",
   "language": "python",
   "name": "python3"
  },
  "language_info": {
   "codemirror_mode": {
    "name": "ipython",
    "version": 3
   },
   "file_extension": ".py",
   "mimetype": "text/x-python",
   "name": "python",
   "nbconvert_exporter": "python",
   "pygments_lexer": "ipython3",
   "version": "3.8.8"
  }
 },
 "nbformat": 4,
 "nbformat_minor": 5
}
